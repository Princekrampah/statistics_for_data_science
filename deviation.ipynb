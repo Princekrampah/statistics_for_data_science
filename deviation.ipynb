{
 "cells": [
  {
   "cell_type": "code",
   "execution_count": 1,
   "id": "infectious-corps",
   "metadata": {},
   "outputs": [],
   "source": [
    "import numpy as np"
   ]
  },
  {
   "cell_type": "code",
   "execution_count": 2,
   "id": "iraqi-verification",
   "metadata": {},
   "outputs": [],
   "source": [
    "data = np.arange(20, 200, 4)"
   ]
  },
  {
   "cell_type": "code",
   "execution_count": 3,
   "id": "informal-nepal",
   "metadata": {},
   "outputs": [
    {
     "data": {
      "text/plain": [
       "array([ 20,  24,  28,  32,  36,  40,  44,  48,  52,  56,  60,  64,  68,\n",
       "        72,  76,  80,  84,  88,  92,  96, 100, 104, 108, 112, 116, 120,\n",
       "       124, 128, 132, 136, 140, 144, 148, 152, 156, 160, 164, 168, 172,\n",
       "       176, 180, 184, 188, 192, 196])"
      ]
     },
     "execution_count": 3,
     "metadata": {},
     "output_type": "execute_result"
    }
   ],
   "source": [
    "data"
   ]
  },
  {
   "cell_type": "code",
   "execution_count": 4,
   "id": "removed-geography",
   "metadata": {},
   "outputs": [
    {
     "data": {
      "text/plain": [
       "45"
      ]
     },
     "execution_count": 4,
     "metadata": {},
     "output_type": "execute_result"
    }
   ],
   "source": [
    "len(data)"
   ]
  },
  {
   "cell_type": "code",
   "execution_count": 5,
   "id": "posted-status",
   "metadata": {},
   "outputs": [],
   "source": [
    "mean = np.mean(data)"
   ]
  },
  {
   "cell_type": "code",
   "execution_count": 6,
   "id": "built-samba",
   "metadata": {},
   "outputs": [
    {
     "data": {
      "text/plain": [
       "108.0"
      ]
     },
     "execution_count": 6,
     "metadata": {},
     "output_type": "execute_result"
    }
   ],
   "source": [
    "mean"
   ]
  },
  {
   "cell_type": "code",
   "execution_count": 7,
   "id": "practical-medicaid",
   "metadata": {},
   "outputs": [],
   "source": [
    "deviation = data - mean"
   ]
  },
  {
   "cell_type": "code",
   "execution_count": 8,
   "id": "consolidated-prophet",
   "metadata": {},
   "outputs": [
    {
     "data": {
      "text/plain": [
       "array([-88., -84., -80., -76., -72., -68., -64., -60., -56., -52., -48.,\n",
       "       -44., -40., -36., -32., -28., -24., -20., -16., -12.,  -8.,  -4.,\n",
       "         0.,   4.,   8.,  12.,  16.,  20.,  24.,  28.,  32.,  36.,  40.,\n",
       "        44.,  48.,  52.,  56.,  60.,  64.,  68.,  72.,  76.,  80.,  84.,\n",
       "        88.])"
      ]
     },
     "execution_count": 8,
     "metadata": {},
     "output_type": "execute_result"
    }
   ],
   "source": [
    "deviation"
   ]
  },
  {
   "cell_type": "code",
   "execution_count": 9,
   "id": "cloudy-double",
   "metadata": {},
   "outputs": [
    {
     "data": {
      "text/plain": [
       "0.0"
      ]
     },
     "execution_count": 9,
     "metadata": {},
     "output_type": "execute_result"
    }
   ],
   "source": [
    "np.sum(deviation)"
   ]
  },
  {
   "cell_type": "code",
   "execution_count": null,
   "id": "solar-equity",
   "metadata": {},
   "outputs": [],
   "source": []
  }
 ],
 "metadata": {
  "kernelspec": {
   "display_name": "Python 3",
   "language": "python",
   "name": "python3"
  },
  "language_info": {
   "codemirror_mode": {
    "name": "ipython",
    "version": 3
   },
   "file_extension": ".py",
   "mimetype": "text/x-python",
   "name": "python",
   "nbconvert_exporter": "python",
   "pygments_lexer": "ipython3",
   "version": "3.8.5"
  }
 },
 "nbformat": 4,
 "nbformat_minor": 5
}
