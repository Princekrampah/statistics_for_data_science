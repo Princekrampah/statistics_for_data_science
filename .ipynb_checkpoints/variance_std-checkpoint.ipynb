{
 "cells": [
  {
   "cell_type": "code",
   "execution_count": 2,
   "id": "golden-peter",
   "metadata": {},
   "outputs": [],
   "source": [
    "import numpy as np"
   ]
  },
  {
   "cell_type": "code",
   "execution_count": 25,
   "id": "suffering-threat",
   "metadata": {},
   "outputs": [],
   "source": [
    "data = np.arange(20, 300, 5)"
   ]
  },
  {
   "cell_type": "code",
   "execution_count": 26,
   "id": "corporate-affiliation",
   "metadata": {},
   "outputs": [
    {
     "data": {
      "text/plain": [
       "array([ 20,  25,  30,  35,  40,  45,  50,  55,  60,  65,  70,  75,  80,\n",
       "        85,  90,  95, 100, 105, 110, 115, 120, 125, 130, 135, 140, 145,\n",
       "       150, 155, 160, 165, 170, 175, 180, 185, 190, 195, 200, 205, 210,\n",
       "       215, 220, 225, 230, 235, 240, 245, 250, 255, 260, 265, 270, 275,\n",
       "       280, 285, 290, 295])"
      ]
     },
     "execution_count": 26,
     "metadata": {},
     "output_type": "execute_result"
    }
   ],
   "source": [
    "data"
   ]
  },
  {
   "cell_type": "code",
   "execution_count": 27,
   "id": "considerable-session",
   "metadata": {},
   "outputs": [
    {
     "data": {
      "text/plain": [
       "56"
      ]
     },
     "execution_count": 27,
     "metadata": {},
     "output_type": "execute_result"
    }
   ],
   "source": [
    "len(data)"
   ]
  },
  {
   "cell_type": "code",
   "execution_count": 34,
   "id": "informational-connecticut",
   "metadata": {},
   "outputs": [
    {
     "data": {
      "text/plain": [
       "6531.25"
      ]
     },
     "execution_count": 34,
     "metadata": {},
     "output_type": "execute_result"
    }
   ],
   "source": [
    "np.var(data)"
   ]
  },
  {
   "cell_type": "code",
   "execution_count": 32,
   "id": "noticed-turning",
   "metadata": {},
   "outputs": [],
   "source": [
    "before = np.var(data, ddof = 1)"
   ]
  },
  {
   "cell_type": "code",
   "execution_count": 33,
   "id": "dated-boxing",
   "metadata": {},
   "outputs": [
    {
     "data": {
      "text/plain": [
       "6650.0"
      ]
     },
     "execution_count": 33,
     "metadata": {},
     "output_type": "execute_result"
    }
   ],
   "source": [
    "before"
   ]
  },
  {
   "cell_type": "code",
   "execution_count": 35,
   "id": "ethical-think",
   "metadata": {},
   "outputs": [
    {
     "data": {
      "text/plain": [
       "81.54753215150045"
      ]
     },
     "execution_count": 35,
     "metadata": {},
     "output_type": "execute_result"
    }
   ],
   "source": [
    "np.sqrt(before)"
   ]
  },
  {
   "cell_type": "code",
   "execution_count": 36,
   "id": "choice-generation",
   "metadata": {},
   "outputs": [
    {
     "data": {
      "text/plain": [
       "81.54753215150045"
      ]
     },
     "execution_count": 36,
     "metadata": {},
     "output_type": "execute_result"
    }
   ],
   "source": [
    "np.std(data, ddof = 1)"
   ]
  },
  {
   "cell_type": "code",
   "execution_count": null,
   "id": "thick-success",
   "metadata": {},
   "outputs": [],
   "source": []
  }
 ],
 "metadata": {
  "kernelspec": {
   "display_name": "Python 3",
   "language": "python",
   "name": "python3"
  },
  "language_info": {
   "codemirror_mode": {
    "name": "ipython",
    "version": 3
   },
   "file_extension": ".py",
   "mimetype": "text/x-python",
   "name": "python",
   "nbconvert_exporter": "python",
   "pygments_lexer": "ipython3",
   "version": "3.8.5"
  }
 },
 "nbformat": 4,
 "nbformat_minor": 5
}
