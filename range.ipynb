{
 "cells": [
  {
   "cell_type": "code",
   "execution_count": 1,
   "id": "invalid-inside",
   "metadata": {},
   "outputs": [],
   "source": [
    "import numpy as np"
   ]
  },
  {
   "cell_type": "code",
   "execution_count": 2,
   "id": "asian-holder",
   "metadata": {},
   "outputs": [],
   "source": [
    "data = np.arange(20, 200, 4)"
   ]
  },
  {
   "cell_type": "code",
   "execution_count": 3,
   "id": "beginning-convenience",
   "metadata": {},
   "outputs": [
    {
     "data": {
      "text/plain": [
       "array([ 20,  24,  28,  32,  36,  40,  44,  48,  52,  56,  60,  64,  68,\n",
       "        72,  76,  80,  84,  88,  92,  96, 100, 104, 108, 112, 116, 120,\n",
       "       124, 128, 132, 136, 140, 144, 148, 152, 156, 160, 164, 168, 172,\n",
       "       176, 180, 184, 188, 192, 196])"
      ]
     },
     "execution_count": 3,
     "metadata": {},
     "output_type": "execute_result"
    }
   ],
   "source": [
    "data"
   ]
  },
  {
   "cell_type": "code",
   "execution_count": 4,
   "id": "floating-monitoring",
   "metadata": {},
   "outputs": [],
   "source": [
    "max_value = data.max()\n",
    "min_value = data.min()"
   ]
  },
  {
   "cell_type": "code",
   "execution_count": 5,
   "id": "molecular-leonard",
   "metadata": {},
   "outputs": [
    {
     "data": {
      "text/plain": [
       "196"
      ]
     },
     "execution_count": 5,
     "metadata": {},
     "output_type": "execute_result"
    }
   ],
   "source": [
    "max_value"
   ]
  },
  {
   "cell_type": "code",
   "execution_count": 6,
   "id": "emotional-strand",
   "metadata": {},
   "outputs": [
    {
     "data": {
      "text/plain": [
       "20"
      ]
     },
     "execution_count": 6,
     "metadata": {},
     "output_type": "execute_result"
    }
   ],
   "source": [
    "min_value"
   ]
  },
  {
   "cell_type": "code",
   "execution_count": 8,
   "id": "israeli-instruction",
   "metadata": {},
   "outputs": [],
   "source": [
    "range_  = max_value - min_value"
   ]
  },
  {
   "cell_type": "code",
   "execution_count": 9,
   "id": "comic-force",
   "metadata": {},
   "outputs": [
    {
     "data": {
      "text/plain": [
       "176"
      ]
     },
     "execution_count": 9,
     "metadata": {},
     "output_type": "execute_result"
    }
   ],
   "source": [
    "range_"
   ]
  },
  {
   "cell_type": "code",
   "execution_count": null,
   "id": "natural-sunrise",
   "metadata": {},
   "outputs": [],
   "source": []
  }
 ],
 "metadata": {
  "kernelspec": {
   "display_name": "Python 3",
   "language": "python",
   "name": "python3"
  },
  "language_info": {
   "codemirror_mode": {
    "name": "ipython",
    "version": 3
   },
   "file_extension": ".py",
   "mimetype": "text/x-python",
   "name": "python",
   "nbconvert_exporter": "python",
   "pygments_lexer": "ipython3",
   "version": "3.8.5"
  }
 },
 "nbformat": 4,
 "nbformat_minor": 5
}
